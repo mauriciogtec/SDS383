{
 "cells": [
  {
   "cell_type": "markdown",
   "metadata": {},
   "source": [
    "## Assignment 3\n",
    "### Ex. 3\n",
    "***Consider the simple linear regression model:***\n",
    "$$\n",
    "y_i = \\beta_0 + \\beta_1x_i + \\epsilon_i, \\quad i = 1, ..., N\n",
    "$$\n",
    "***where $\\beta_0$ and $\\beta_1$ are the unknown parameters. Assume that the $\\epsilon_i$'s are iid $t$-distributed data with unknown degrees of freedom $\\nu$.***"
   ]
  },
  {
   "cell_type": "markdown",
   "metadata": {},
   "source": [
    "***(a) Write the loglikelihood function for the MLE estimation of the three unknowns parameters***.\n",
    "\n",
    "Our model can be written as\n",
    "$$\n",
    "y \\mid x \\sim \\tau(\\beta_0 + \\beta_1x, \\nu)\n",
    "$$\n",
    "where $\\tau(\\mu, \\eta)$ is a (noncentral) Student's $t$-distribution centered in $\\mu$. \n",
    "The loglikelihood $l$ of our model is\n",
    "$$\n",
    "l\\left((\\beta_0, \\beta_1, \\nu \\mid y, x \\right) = \\log \\prod_{i=1}^N f(y_i - \\beta_0 - \\beta_1x_i \\mid \\nu) = \\sum_{i=1}^N \\log f(y_i - \\beta_0 - \\beta_1x_i \\mid \\nu)\n",
    "$$\n",
    "where $f(\\cdot \\mid \\nu)$ is the density function of a standard Student's $t$-distibution with $\\nu$ degrees of freedom, given by\n",
    "$$\n",
    "f(x \\mid \\nu) =  \\left\\{\\sqrt{\\nu}B\\left(\\frac{1}{2},\n",
    "\\frac{\\nu}{2}\\right)\\right\\}^{-1} \\left(1 + \\frac{x^2}{\\nu}\\right)^{-\\frac{\\nu + 1}{2}} \n",
    "$$\n",
    "so the log density takes the form"
   ]
  },
  {
   "cell_type": "markdown",
   "metadata": {},
   "source": [
    "$$\n",
    "l\\left((\\beta_0, \\beta_1, \\nu \\mid y, x \\right) = \\sum_{i = 1}^N  \\left\\{ - \\log \\left(\\sqrt{v} B\\left(\\frac{1}{2}, \\frac{\\nu}{2}\\right) \\right) - \\frac{1}{2}(\\nu + 1)\\log\\left( 1 + \\frac{(y_i - \\beta_0 - \\beta_1x_i)^2}{\\nu} \\right) \\right\\}\n",
    "$$"
   ]
  },
  {
   "cell_type": "code",
   "execution_count": 1,
   "metadata": {
    "collapsed": false
   },
   "outputs": [
    {
     "data": {
      "text/plain": [
       "logdt (generic function with 1 method)"
      ]
     },
     "execution_count": 1,
     "metadata": {},
     "output_type": "execute_result"
    }
   ],
   "source": [
    "function logdt(x, v) \n",
    "    return -log(sqrt(v) * beta(0.5, 0.5*v)) - 0.5(v + 1)*log(1 + x^2/v)\n",
    "end"
   ]
  },
  {
   "cell_type": "code",
   "execution_count": 2,
   "metadata": {
    "collapsed": false
   },
   "outputs": [
    {
     "data": {
      "text/plain": [
       "loglikelihood (generic function with 1 method)"
      ]
     },
     "execution_count": 2,
     "metadata": {},
     "output_type": "execute_result"
    }
   ],
   "source": [
    "function loglikelihood(β0, β1, v, y, x)\n",
    "    return sum(logdt.(y - β0 - β1*x, v))\n",
    "end"
   ]
  },
  {
   "cell_type": "code",
   "execution_count": 3,
   "metadata": {
    "collapsed": false
   },
   "outputs": [],
   "source": [
    "using DataFrames"
   ]
  },
  {
   "cell_type": "code",
   "execution_count": 4,
   "metadata": {
    "collapsed": false
   },
   "outputs": [],
   "source": [
    "tdata = readtable(\"data/tdata.tsv\");"
   ]
  },
  {
   "cell_type": "code",
   "execution_count": 35,
   "metadata": {
    "collapsed": false
   },
   "outputs": [],
   "source": [
    "using JuMP\n",
    "using NLopt\n",
    "m = Model(solver=NLoptSolver(algorithm=:LD_LBFGS))\n",
    "fobj(β0, β1) = -loglikelihood(β0, β1, 0.05, tdata[:y], tdata[:x])\n",
    "end\n",
    "@variable(m, β0)\n",
    "@variable(m, β1)\n",
    "# @variable(m, v >= 0.01)\n",
    "JuMP.register(m, :fobj, 2, fobj, autodiff=true)\n",
    "@NLobjective(m, Min, fobj(β0, β1))"
   ]
  },
  {
   "cell_type": "code",
   "execution_count": 36,
   "metadata": {
    "collapsed": false
   },
   "outputs": [
    {
     "data": {
      "text/plain": [
       "192.72742240694976"
      ]
     },
     "execution_count": 36,
     "metadata": {},
     "output_type": "execute_result"
    }
   ],
   "source": [
    "solve(m)\n",
    "getobjectivevalue(m)"
   ]
  },
  {
   "cell_type": "code",
   "execution_count": null,
   "metadata": {
    "collapsed": false
   },
   "outputs": [],
   "source": []
  },
  {
   "cell_type": "code",
   "execution_count": 7,
   "metadata": {
    "collapsed": false
   },
   "outputs": [
    {
     "ename": "LoadError",
     "evalue": "\u001b[91mUndefVarError: BFGS not defined\u001b[39m",
     "output_type": "error",
     "traceback": [
      "\u001b[91mUndefVarError: BFGS not defined\u001b[39m",
      "",
      "Stacktrace:",
      " [1] \u001b[1minclude_string\u001b[22m\u001b[22m\u001b[1m(\u001b[22m\u001b[22m::String, ::String\u001b[1m)\u001b[22m\u001b[22m at \u001b[1m.\\loading.jl:515\u001b[22m\u001b[22m"
     ]
    }
   ],
   "source": [
    "result = optimize(fobj, [2., 3., 10], BFGS())"
   ]
  },
  {
   "cell_type": "code",
   "execution_count": 8,
   "metadata": {
    "collapsed": false
   },
   "outputs": [
    {
     "ename": "LoadError",
     "evalue": "\u001b[91mMethodError: no method matching fobj(::Array{Float64,1})\u001b[0m\nClosest candidates are:\n  fobj(::Any, \u001b[91m::Any\u001b[39m, \u001b[91m::Any\u001b[39m) at In[5]:5\u001b[39m",
     "output_type": "error",
     "traceback": [
      "\u001b[91mMethodError: no method matching fobj(::Array{Float64,1})\u001b[0m\nClosest candidates are:\n  fobj(::Any, \u001b[91m::Any\u001b[39m, \u001b[91m::Any\u001b[39m) at In[5]:5\u001b[39m",
      "",
      "Stacktrace:",
      " [1] \u001b[1minclude_string\u001b[22m\u001b[22m\u001b[1m(\u001b[22m\u001b[22m::String, ::String\u001b[1m)\u001b[22m\u001b[22m at \u001b[1m.\\loading.jl:515\u001b[22m\u001b[22m"
     ]
    }
   ],
   "source": [
    "fobj([10, -1., 0.00000000001])"
   ]
  },
  {
   "cell_type": "code",
   "execution_count": 9,
   "metadata": {
    "collapsed": false
   },
   "outputs": [
    {
     "name": "stderr",
     "output_type": "stream",
     "text": [
      "\u001b[1m\u001b[36mINFO: \u001b[39m\u001b[22m\u001b[1m\u001b[36mINFO: \u001b[39m\u001b[22m\u001b[36mMETADATA is out-of-date — you may not have the latest version of NLopt\n",
      "\u001b[39m\u001b[1m\u001b[36mINFO: \u001b[39m\u001b[22m\u001b[36mUse `Pkg.update()` to get the latest versions of your packages\n",
      "\u001b[39m\u001b[36mPackage NLopt is already installed\n",
      "\u001b[39m"
     ]
    }
   ],
   "source": [
    "Pkg.add(\"NLopt\")"
   ]
  },
  {
   "cell_type": "code",
   "execution_count": null,
   "metadata": {
    "collapsed": true
   },
   "outputs": [],
   "source": []
  }
 ],
 "metadata": {
  "kernelspec": {
   "display_name": "Julia 0.6.0",
   "language": "julia",
   "name": "julia-0.6"
  },
  "language_info": {
   "file_extension": ".jl",
   "mimetype": "application/julia",
   "name": "julia",
   "version": "0.6.0"
  }
 },
 "nbformat": 4,
 "nbformat_minor": 2
}
