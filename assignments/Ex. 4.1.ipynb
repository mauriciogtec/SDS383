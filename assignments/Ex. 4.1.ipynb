{
 "cells": [
  {
   "cell_type": "markdown",
   "metadata": {},
   "source": [
    "## Exercise 1\n",
    "\n",
    "We will now investigate numerically the probability that a bootstrap sample of size $n = 100$ contains the $j$-th observation. Here $j = 4$. We repeatedly create bootstrap samples, and each time we record whether or not the fourth observation is contained in the bootstrap sample"
   ]
  },
  {
   "cell_type": "markdown",
   "metadata": {},
   "source": [
    "***Solution to (h)***"
   ]
  },
  {
   "cell_type": "code",
   "execution_count": 22,
   "metadata": {},
   "outputs": [
    {
     "data": {
      "text/plain": [
       "0.65"
      ]
     },
     "execution_count": 22,
     "metadata": {},
     "output_type": "execute_result"
    }
   ],
   "source": [
    "srand(110104) # set the seed\n",
    "n = 100 # total number of observations\n",
    "j = 4 # we want to see if j is in the sample\n",
    "store = Array{Bool}(n) # preallocate space\n",
    "for i in 1:n\n",
    "    store[i] = j ∈ rand(1:n, n)  # is j contained?\n",
    "end\n",
    "mean(store)"
   ]
  },
  {
   "cell_type": "markdown",
   "metadata": {},
   "source": [
    "The result is obvious since it agrees with we had already obtained. Since it is"
   ]
  },
  {
   "cell_type": "code",
   "execution_count": 23,
   "metadata": {},
   "outputs": [
    {
     "data": {
      "text/plain": [
       "0.6321205588285577"
      ]
     },
     "execution_count": 23,
     "metadata": {},
     "output_type": "execute_result"
    }
   ],
   "source": [
    "# 1 - Prob(j ∉ sample)\n",
    "1 - exp(-1)"
   ]
  },
  {
   "cell_type": "markdown",
   "metadata": {},
   "source": [
    "***Solution to (g), the optional question***"
   ]
  },
  {
   "cell_type": "code",
   "execution_count": 19,
   "metadata": {},
   "outputs": [],
   "source": [
    "# added the log to have a little bit more stability\n",
    "prob(n) = (1 - 1/n)^n\n",
    "# sequence to evaluate\n",
    "prob_seq = [prob(i) for i in 1:100]\n",
    ";"
   ]
  },
  {
   "cell_type": "code",
   "execution_count": 20,
   "metadata": {},
   "outputs": [
    {
     "data": {
      "text/html": [
       "<script src=\"C:\\Users\\mbg877\\.julia\\v0.6\\Plots\\src\\backends\\..\\..\\deps\\plotly-latest.min.js\"></script>    <div id=\"4da2926c-4c8d-4010-84f7-12d3ca07b8ca\" style=\"width:600px;height:300px;\"></div>\n",
       "    <script>\n",
       "    PLOT = document.getElementById('4da2926c-4c8d-4010-84f7-12d3ca07b8ca');\n",
       "    Plotly.plot(PLOT, [{\"showlegend\":true,\"mode\":\"lines\",\"xaxis\":\"x\",\"colorbar\":{\"title\":\"\"},\"line\":{\"color\":\"rgba(0, 154, 250, 1.000)\",\"shape\":\"linear\",\"dash\":\"solid\",\"width\":2},\"y\":[0.0,0.25,0.2962962962962964,0.31640625,0.3276800000000001,0.3348979766803842,0.33991667708911394,0.34360891580581665,0.34643941611461837,0.3486784401000001,0.35049389948139237,0.3519956280141369,0.3532584984711608,0.3543353102198591,0.3552643664941443,0.3560741304517928,0.35678619474629275,0.3574172367946634,0.35798034220346403,0.35848592240854193,0.35894236464095264,0.35935650109560646,0.359733953380142,0.36007938928552263,0.360396716858018,0.36068923293650434,0.3609597381509142,0.36121062689684225,0.3614439584169954,0.3616615134616106,0.3618648398297031,0.3620552892563166,0.3622340475055147,0.36240215908566475,0.36256054767581447,0.3627100331070721,0.36285134555833665,0.36298513748531247,0.36311199369415226,0.36323243988788034,0.3633469499490778,0.3634559521716023,0.36355983461412816,0.363658949716578,0.3637536182951894,0.3638441330116723,0.3639307613954572,0.3640137484848344,0.36409331914185955,0.36416968008711675,0.3642430216930991,0.36431351956896996,0.36438133596447614,0.36444662101664327,0.364509513859422,0.3645701436135414,0.36462863027138814,0.36468508548967815,0.36473961330094096,0.36479231075334373,0.364843268487169,0.3648925712550857,0.3649402983925686,0.36498652424390743,0.3650313185486516,0.3650747467926712,0.3651168705276139,0.3651577476619791,0.36519743272671806,0.3652359771179613,0.36527342931908113,0.36530983510416015,0.3653452377246204,0.3653796780806668,0.3654131948788876,0.3654458247773954,0.36547760251957007,0.3655085610574511,0.3655387316657256,0.36556814404711835,0.36559682642992347,0.3656248056583858,0.3656521072764769,0.36567875560570556,0.3657047738173611,0.36573018399973123,0.3657550072206433,0.365779263585709,0.3658029722926502,0.36582615168197374,0.3658488192842744,0.36587099186446803,0.36589268546314724,0.36591391543525975,0.36593469648637117,0.36595504270664336,0.3659749676026671,0.36599448412738755,0.3660136047081817,0.36603234127322914],\"type\":\"scatter\",\"name\":\"Prob(j ∉ sample)\",\"yaxis\":\"y\",\"x\":[1,2,3,4,5,6,7,8,9,10,11,12,13,14,15,16,17,18,19,20,21,22,23,24,25,26,27,28,29,30,31,32,33,34,35,36,37,38,39,40,41,42,43,44,45,46,47,48,49,50,51,52,53,54,55,56,57,58,59,60,61,62,63,64,65,66,67,68,69,70,71,72,73,74,75,76,77,78,79,80,81,82,83,84,85,86,87,88,89,90,91,92,93,94,95,96,97,98,99,100]},{\"showlegend\":true,\"mode\":\"lines\",\"xaxis\":\"x\",\"colorbar\":{\"title\":\"\"},\"line\":{\"color\":\"rgba(227, 111, 71, 1.000)\",\"shape\":\"linear\",\"dash\":\"dot\",\"width\":3},\"y\":[0.36787944117144233,0.36787944117144233,0.36787944117144233],\"type\":\"scatter\",\"name\":\"exp(-1)\",\"yaxis\":\"y\",\"x\":[1.0,100.0,null]}], {\"showlegend\":true,\"xaxis\":{\"gridwidth\":0.5,\"tickvals\":[20.0,40.0,60.0,80.0,100.0],\"ticks\":\"inside\",\"tickmode\":\"array\",\"domain\":[0.05100612423447069,0.9934383202099737],\"linecolor\":\"rgba(0, 0, 0, 1.000)\",\"showgrid\":true,\"title\":\"sample size\",\"tickangle\":0,\"gridcolor\":\"rgba(0, 0, 0, 0.100)\",\"titlefont\":{\"color\":\"rgba(0, 0, 0, 1.000)\",\"family\":\"sans-serif\",\"size\":15},\"tickcolor\":\"rgba(0, 0, 0, 1.000)\",\"ticktext\":[\"20\",\"40\",\"60\",\"80\",\"100\"],\"zeroline\":false,\"type\":\"-\",\"tickfont\":{\"color\":\"rgba(0, 0, 0, 1.000)\",\"family\":\"sans-serif\",\"size\":11},\"anchor\":\"y\"},\"paper_bgcolor\":\"rgba(255, 255, 255, 1.000)\",\"annotations\":[],\"height\":300,\"margin\":{\"l\":0,\"b\":20,\"r\":0,\"t\":20},\"plot_bgcolor\":\"rgba(255, 255, 255, 1.000)\",\"yaxis\":{\"gridwidth\":0.5,\"tickvals\":[0.0,0.1,0.2,0.30000000000000004],\"ticks\":\"inside\",\"tickmode\":\"array\",\"domain\":[0.10108632254301551,0.9868766404199475],\"linecolor\":\"rgba(0, 0, 0, 1.000)\",\"showgrid\":true,\"title\":\"\",\"tickangle\":0,\"gridcolor\":\"rgba(0, 0, 0, 0.100)\",\"titlefont\":{\"color\":\"rgba(0, 0, 0, 1.000)\",\"family\":\"sans-serif\",\"size\":15},\"tickcolor\":\"rgba(0, 0, 0, 1.000)\",\"ticktext\":[\"0.0\",\"0.1\",\"0.2\",\"0.3\"],\"zeroline\":false,\"type\":\"-\",\"tickfont\":{\"color\":\"rgba(0, 0, 0, 1.000)\",\"family\":\"sans-serif\",\"size\":11},\"anchor\":\"x\"},\"legend\":{\"bordercolor\":\"rgba(0, 0, 0, 1.000)\",\"bgcolor\":\"rgba(255, 255, 255, 1.000)\",\"font\":{\"color\":\"rgba(0, 0, 0, 1.000)\",\"family\":\"sans-serif\",\"size\":11},\"y\":1.0,\"x\":1.0},\"width\":600});\n",
       "    </script>\n"
      ]
     },
     "execution_count": 20,
     "metadata": {},
     "output_type": "execute_result"
    }
   ],
   "source": [
    "# plotting\n",
    "using Plots\n",
    "plot(1:n, [prob_seq],\n",
    "    xlab = \"sample size\", \n",
    "    label = \"Prob(j ∉ sample)\",\n",
    "    lw = 2,\n",
    "    size = (600, 300))\n",
    "plot!([exp(-1)], \n",
    "    st = [:hline], \n",
    "    label = \"exp(-1)\",\n",
    "    ls = :dot, lw = 3)"
   ]
  }
 ],
 "metadata": {
  "kernelspec": {
   "display_name": "Julia 0.6.0",
   "language": "julia",
   "name": "julia-0.6"
  },
  "language_info": {
   "file_extension": ".jl",
   "mimetype": "application/julia",
   "name": "julia",
   "version": "0.6.0"
  }
 },
 "nbformat": 4,
 "nbformat_minor": 2
}
