{
 "cells": [
  {
   "cell_type": "markdown",
   "metadata": {},
   "source": [
    "## Exercise 2"
   ]
  },
  {
   "cell_type": "markdown",
   "metadata": {},
   "source": [
    "*a) Generate a simulated data set as follows:*"
   ]
  },
  {
   "cell_type": "code",
   "execution_count": 41,
   "metadata": {},
   "outputs": [],
   "source": [
    "srand(1)\n",
    "x = randn(100) \n",
    "y = x - 2x.^2 + randn(100)\n",
    ";"
   ]
  },
  {
   "cell_type": "markdown",
   "metadata": {},
   "source": [
    "*In this data set, what is n and what is p? Write out the model used to generate the data in equation form*"
   ]
  },
  {
   "cell_type": "markdown",
   "metadata": {},
   "source": [
    "In this regression model $n = 100$ which is the length of the variables $x$ and $y$, and $p=2$, since $y$ is generated with two predictos $x$ and $x^2$, plus a  random error."
   ]
  },
  {
   "cell_type": "markdown",
   "metadata": {},
   "source": [
    "*(c) Do 5-fold cross-validation to fit polynomial models using least squares, we compute the generalization error*"
   ]
  },
  {
   "cell_type": "markdown",
   "metadata": {},
   "source": [
    "Step 1: Create the folds"
   ]
  },
  {
   "cell_type": "code",
   "execution_count": 21,
   "metadata": {},
   "outputs": [
    {
     "data": {
      "text/plain": [
       "5-element Array{Array{Int64,1},1}:\n",
       " [73, 87, 51, 62, 91, 50, 31, 90, 15, 17, 92, 10, 28, 57, 88, 75, 67, 89, 8, 24]\n",
       " [49, 5, 37, 25, 47, 60, 55, 79, 30, 81, 65, 26, 54, 94, 19, 83, 59, 56, 18, 34]\n",
       " [22, 44, 99, 77, 23, 80, 48, 100, 27, 98, 82, 13, 68, 64, 3, 86, 63, 2, 66, 76]\n",
       " [1, 38, 93, 21, 9, 33, 78, 69, 35, 20, 61, 70, 12, 96, 42, 84, 39, 11, 74, 46] \n",
       " [40, 6, 4, 29, 85, 72, 43, 52, 58, 41, 45, 71, 53, 14, 36, 16, 95, 97, 7, 32]  "
      ]
     },
     "execution_count": 21,
     "metadata": {},
     "output_type": "execute_result"
    }
   ],
   "source": [
    "n = 100\n",
    "k = 5\n",
    "s = convert(Integer, n / k)\n",
    "seq = randperm(n)\n",
    "fold = [seq[((i-1)*s + 1):(i*s)] for i in 1:k]"
   ]
  },
  {
   "cell_type": "markdown",
   "metadata": {},
   "source": [
    "Step 2: function for polynomial fitting"
   ]
  },
  {
   "cell_type": "code",
   "execution_count": 54,
   "metadata": {},
   "outputs": [
    {
     "data": {
      "text/plain": [
       "polyreg (generic function with 1 method)"
      ]
     },
     "execution_count": 54,
     "metadata": {},
     "output_type": "execute_result"
    }
   ],
   "source": [
    "function polyreg(deg, x, y)\n",
    "    # julia is preoptimized for descent solutions methods w/short code\n",
    "    X = ones(length(y))\n",
    "    for i in 1:deg\n",
    "       X = [X x.^i] \n",
    "    end\n",
    "    βhat = Symmetric(X'*X) \\ X'*y\n",
    "    yhat = X*βhat\n",
    "    residuals = y - yhat\n",
    "    βhat, yhat, residuals    \n",
    "end"
   ]
  },
  {
   "cell_type": "markdown",
   "metadata": {},
   "source": [
    "Step 3: fit models with cross-validation"
   ]
  },
  {
   "cell_type": "code",
   "execution_count": 32,
   "metadata": {},
   "outputs": [
    {
     "data": {
      "text/plain": [
       "fit_polynomial (generic function with 1 method)"
      ]
     },
     "execution_count": 32,
     "metadata": {},
     "output_type": "execute_result"
    }
   ],
   "source": [
    "error_model1 = Array{Float64}(k)\n",
    "error_model2 = Array{Float64}(k)\n",
    "error_model3 = Array{Float64}(k)\n",
    "error_model4 = Array{Float64}(k)\n",
    "# auxiliar function for fitting\n",
    "for i in 1:k\n",
    "    βhat, yhat, residuals = polyreg(i)\n",
    "end\n"
   ]
  }
 ],
 "metadata": {
  "kernelspec": {
   "display_name": "Julia 0.6.0",
   "language": "julia",
   "name": "julia-0.6"
  },
  "language_info": {
   "file_extension": ".jl",
   "mimetype": "application/julia",
   "name": "julia",
   "version": "0.6.0"
  }
 },
 "nbformat": 4,
 "nbformat_minor": 2
}
