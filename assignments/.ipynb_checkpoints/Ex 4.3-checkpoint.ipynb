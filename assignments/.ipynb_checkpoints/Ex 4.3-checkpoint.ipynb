{
 "cells": [
  {
   "cell_type": "markdown",
   "metadata": {},
   "source": [
    "## Exercise 3"
   ]
  },
  {
   "cell_type": "markdown",
   "metadata": {},
   "source": [
    "Same data as the in the previous exercise"
   ]
  },
  {
   "cell_type": "code",
   "execution_count": 9,
   "metadata": {
    "collapsed": true
   },
   "outputs": [],
   "source": [
    "srand(1)\n",
    "n = 100\n",
    "x = randn(n) \n",
    "y = x - 2x.^2 + randn(n)\n",
    ";"
   ]
  },
  {
   "cell_type": "markdown",
   "metadata": {},
   "source": [
    "We now fit for degrees 1,2,3,4 a polynomial regression as before and for each one compute the AIC. We first define an AIC function, we have:\n",
    "$$\n",
    "{\\displaystyle \\mathrm {AIC} =2p-2\\ln({\\hat {L}})}\n",
    "$$\n",
    "[Reference](https://en.wikipedia.org/wiki/Akaike_information_criterion)"
   ]
  },
  {
   "cell_type": "code",
   "execution_count": 10,
   "metadata": {},
   "outputs": [],
   "source": [
    "function Logl(β, σ2, error)\n",
    "    n = length(error)\n",
    "    -(n / 2) * log(2pi * σ2) - (error' * error ) / (2σ2)\n",
    "end\n",
    "function AIC(βhat, σ2hat, error)\n",
    "    logl = Logl(βhat, σ2hat, error)\n",
    "    2(length(βhat) - logl)\n",
    "end\n",
    ";"
   ]
  },
  {
   "cell_type": "markdown",
   "metadata": {},
   "source": [
    "Now train the models"
   ]
  },
  {
   "cell_type": "code",
   "execution_count": 11,
   "metadata": {},
   "outputs": [],
   "source": [
    "Xfull = [ones(length(y)) x x.^2 x.^3 x.^4]   \n",
    "# store space\n",
    "aic = Array{Float64}(4)\n",
    "for deg in 1:4 # inner loop fits different polynomial models\n",
    "    # X data\n",
    "    X = Xfull[:, 1:(1 + deg)]\n",
    "    # regression\n",
    "    βhat = Symmetric(X' * X) \\ (X' * y)\n",
    "    yhat = X * βhat\n",
    "    e = y - yhat\n",
    "    σ2hat = e' * e / n  \n",
    "    aic[deg] = AIC(βhat, σ2hat, e)\n",
    "end"
   ]
  },
  {
   "cell_type": "code",
   "execution_count": 12,
   "metadata": {
    "collapsed": true
   },
   "outputs": [],
   "source": [
    "using Plots"
   ]
  },
  {
   "cell_type": "code",
   "execution_count": 13,
   "metadata": {},
   "outputs": [
    {
     "data": {
      "text/html": [
       "<script src=\"C:\\Users\\mbtec\\.julia\\v0.6\\Plots\\src\\backends\\..\\..\\deps\\plotly-latest.min.js\"></script>    <div id=\"cc9f7683-f781-42d2-98e7-494502bb44ee\" style=\"width:600px;height:400px;\"></div>\n",
       "    <script>\n",
       "    PLOT = document.getElementById('cc9f7683-f781-42d2-98e7-494502bb44ee');\n",
       "    Plotly.plot(PLOT, [{\"showlegend\":true,\"mode\":\"lines\",\"xaxis\":\"x\",\"colorbar\":{\"title\":\"\"},\"line\":{\"color\":\"rgba(0, 154, 250, 1.000)\",\"shape\":\"linear\",\"dash\":\"solid\",\"width\":1},\"y\":[475.85145024533233,289.8870871205611,289.49523640563893,290.3377497529766],\"type\":\"scatter\",\"name\":\"y1\",\"yaxis\":\"y\",\"x\":[1,2,3,4]}], {\"showlegend\":true,\"xaxis\":{\"gridwidth\":0.5,\"tickvals\":[1.0,2.0,3.0,4.0],\"ticks\":\"inside\",\"tickmode\":\"array\",\"domain\":[0.07646908719743364,0.9934383202099737],\"linecolor\":\"rgba(0, 0, 0, 1.000)\",\"showgrid\":true,\"title\":\"degree of fitted polynomial\",\"tickangle\":0,\"gridcolor\":\"rgba(0, 0, 0, 0.100)\",\"titlefont\":{\"color\":\"rgba(0, 0, 0, 1.000)\",\"family\":\"sans-serif\",\"size\":15},\"tickcolor\":\"rgba(0, 0, 0, 1.000)\",\"ticktext\":[\"1\",\"2\",\"3\",\"4\"],\"zeroline\":false,\"type\":\"-\",\"tickfont\":{\"color\":\"rgba(0, 0, 0, 1.000)\",\"family\":\"sans-serif\",\"size\":11},\"anchor\":\"y\"},\"paper_bgcolor\":\"rgba(255, 255, 255, 1.000)\",\"annotations\":[{\"yanchor\":\"top\",\"xanchor\":\"center\",\"rotation\":-0.0,\"y\":1.0,\"font\":{\"color\":\"rgba(0, 0, 0, 1.000)\",\"family\":\"sans-serif\",\"size\":20},\"yref\":\"paper\",\"showarrow\":false,\"text\":\"AIC for different polynomial fitted\",\"xref\":\"paper\",\"x\":0.5349537037037038}],\"height\":400,\"margin\":{\"l\":0,\"b\":20,\"r\":0,\"t\":20},\"plot_bgcolor\":\"rgba(255, 255, 255, 1.000)\",\"yaxis\":{\"gridwidth\":0.5,\"tickvals\":[300.0,350.0,400.0,450.0],\"ticks\":\"inside\",\"tickmode\":\"array\",\"domain\":[0.07581474190726165,0.9415463692038496],\"linecolor\":\"rgba(0, 0, 0, 1.000)\",\"showgrid\":true,\"title\":\"AIC\",\"tickangle\":0,\"gridcolor\":\"rgba(0, 0, 0, 0.100)\",\"titlefont\":{\"color\":\"rgba(0, 0, 0, 1.000)\",\"family\":\"sans-serif\",\"size\":15},\"tickcolor\":\"rgba(0, 0, 0, 1.000)\",\"ticktext\":[\"300\",\"350\",\"400\",\"450\"],\"zeroline\":false,\"type\":\"-\",\"tickfont\":{\"color\":\"rgba(0, 0, 0, 1.000)\",\"family\":\"sans-serif\",\"size\":11},\"anchor\":\"x\"},\"legend\":{\"bordercolor\":\"rgba(0, 0, 0, 1.000)\",\"bgcolor\":\"rgba(255, 255, 255, 1.000)\",\"font\":{\"color\":\"rgba(0, 0, 0, 1.000)\",\"family\":\"sans-serif\",\"size\":11},\"y\":1.0,\"x\":1.0},\"width\":600});\n",
       "    </script>\n"
      ]
     },
     "execution_count": 13,
     "metadata": {},
     "output_type": "execute_result"
    }
   ],
   "source": [
    "plot(1:4, aic, xlab = \"degree of fitted polynomial\", ylab = \"AIC\", \n",
    "    title =  \"AIC for different polynomial fitted\")"
   ]
  },
  {
   "cell_type": "code",
   "execution_count": 17,
   "metadata": {
    "scrolled": true
   },
   "outputs": [
    {
     "name": "stdout",
     "output_type": "stream",
     "text": [
      "Degree: 1, AIC: 475.85\n",
      "Degree: 2, AIC: 289.89\n",
      "Degree: 3, AIC: 289.50\n",
      "Degree: 4, AIC: 290.34\n"
     ]
    }
   ],
   "source": [
    "for i in 1:4\n",
    "   @printf(\"Degree: %i, AIC: %0.2f\\n\", i, aic[i]) \n",
    "end"
   ]
  },
  {
   "cell_type": "markdown",
   "metadata": {},
   "source": [
    "According to the AIC criterion, both 2 and 3 seem reasonable degrees (although we know the true model is 2)."
   ]
  },
  {
   "cell_type": "markdown",
   "metadata": {},
   "source": [
    "***NOTE: I am not combining AIC with cross-validation since I asked in class if there was any point to combine the AIC with cross-validation and the professor answered that it's usually one or the other.***"
   ]
  }
 ],
 "metadata": {
  "kernelspec": {
   "display_name": "Julia 0.6.0",
   "language": "julia",
   "name": "julia-0.6"
  },
  "language_info": {
   "file_extension": ".jl",
   "mimetype": "application/julia",
   "name": "julia",
   "version": "0.6.0"
  }
 },
 "nbformat": 4,
 "nbformat_minor": 2
}
